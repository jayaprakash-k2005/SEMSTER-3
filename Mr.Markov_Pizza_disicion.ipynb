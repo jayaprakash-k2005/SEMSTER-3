{
 "cells": [
  {
   "cell_type": "code",
   "execution_count": 1,
   "id": "70cce015",
   "metadata": {},
   "outputs": [],
   "source": [
    "from protopunica import *\n",
    "import numpy as np"
   ]
  },
  {
   "cell_type": "markdown",
   "id": "00851469",
   "metadata": {},
   "source": [
    "Protopunica is a python library that implements probabilistic models"
   ]
  },
  {
   "cell_type": "markdown",
   "id": "5b7a50d0",
   "metadata": {},
   "source": [
    "=>Imagine we have Mr.Markov Who is a foodie.\n",
    "\n",
    "=>But He cannot cook all by himself, so he appointes a chef who needs to make sure he serves the best food that keeps Mr.Markov healthy. \n",
    "\n",
    "=>The best part is our Chef is suffering from ammesia.So he had not idea what he cooked earlier in the past.\n",
    "\n",
    "=>But he remembers what he cooked today... based on this assumption he wants to estimaate what will Mr.Markov have for tommorrow's lunch.\n",
    "\n",
    "=>Some information about Mr.Markov's food is \"\"If Mr.Markov had a pizza for lunch today then the probability that he is going to have a pizza tomorrow is 75% and is 25% probable that he is going to have vegetables and steek tomorrow.\n",
    "\n",
    "=>Similarily if Mr.Markov have Vegetables and steak for lunch today then he is 60% sure that he will have the same lunch tomorrow and 40% sure that he will have a pizza...."
   ]
  },
  {
   "cell_type": "markdown",
   "id": "86f94de5",
   "metadata": {},
   "source": [
    "# Let's Plot the Transition Diagram "
   ]
  },
  {
   "cell_type": "raw",
   "id": "d01c5f16",
   "metadata": {},
   "source": [
    "We will be using the Numpy Library for numerical convension\n",
    "We will be using the Protopunica Library for "
   ]
  },
  {
   "cell_type": "markdown",
   "id": "549c840f",
   "metadata": {},
   "source": [
    "# 2.Define the Initial State"
   ]
  },
  {
   "cell_type": "markdown",
   "id": "c7b6405b",
   "metadata": {},
   "source": [
    "We assume that Mr.Markoc had Pizza for today's Lunch"
   ]
  },
  {
   "cell_type": "code",
   "execution_count": 2,
   "id": "ceaf1617",
   "metadata": {},
   "outputs": [],
   "source": [
    "start = DiscreteDistribution({\"Pizza\":1,\"Veg\":0})"
   ]
  },
  {
   "cell_type": "markdown",
   "id": "e13b6570",
   "metadata": {},
   "source": [
    "\n",
    "# 3.Define the Transition Martix"
   ]
  },
  {
   "cell_type": "code",
   "execution_count": 3,
   "id": "b2a9d95c",
   "metadata": {},
   "outputs": [],
   "source": [
    "Transitions = ConditionalProbabilityTable([\n",
    "    [\"Pizza\",\"Pizza\",0.75],\n",
    "    [\"Pizza\",\"Veg\",0.25],\n",
    "    [\"Veg\",\"Veg\",0.6],\n",
    "    [\"Veg\",\"Pizza\",0.4]\n",
    "],[start])"
   ]
  },
  {
   "cell_type": "markdown",
   "id": "2bde09f8",
   "metadata": {},
   "source": [
    "# 4.Combina both the Initial State and Transition Martix to create a Markov Chain Model "
   ]
  },
  {
   "cell_type": "code",
   "execution_count": 4,
   "id": "b7975470",
   "metadata": {},
   "outputs": [],
   "source": [
    "Model = MarkovChain([start,Transitions])"
   ]
  },
  {
   "cell_type": "markdown",
   "id": "5ad58b29",
   "metadata": {},
   "source": [
    "# 5.Let's Create some random set of events from Markov Chain"
   ]
  },
  {
   "cell_type": "code",
   "execution_count": 5,
   "id": "4f8d072e",
   "metadata": {},
   "outputs": [],
   "source": [
    "Random_samples=Model.sample(3)"
   ]
  },
  {
   "cell_type": "code",
   "execution_count": 6,
   "id": "3a41530b",
   "metadata": {},
   "outputs": [
    {
     "name": "stdout",
     "output_type": "stream",
     "text": [
      "['Pizza', 'Pizza', 'Pizza']\n"
     ]
    }
   ],
   "source": [
    "print(Random_samples)"
   ]
  },
  {
   "cell_type": "markdown",
   "id": "62f92792",
   "metadata": {},
   "source": [
    "# 6.Find the log Probability for this set of events"
   ]
  },
  {
   "cell_type": "code",
   "execution_count": 7,
   "id": "971c66df",
   "metadata": {},
   "outputs": [],
   "source": [
    "Log_probability = Model.log_probability(Random_samples)"
   ]
  },
  {
   "cell_type": "code",
   "execution_count": 8,
   "id": "6658c4e9",
   "metadata": {},
   "outputs": [],
   "source": [
    "Probability_of_Occurance = np.exp(Log_probability)"
   ]
  },
  {
   "cell_type": "markdown",
   "id": "1e7fb72c",
   "metadata": {},
   "source": [
    "# 7.Probability of Occurance"
   ]
  },
  {
   "cell_type": "code",
   "execution_count": 9,
   "id": "3fd20eef",
   "metadata": {},
   "outputs": [
    {
     "data": {
      "text/plain": [
       "0.5625"
      ]
     },
     "execution_count": 9,
     "metadata": {},
     "output_type": "execute_result"
    }
   ],
   "source": [
    "Probability_of_Occurance"
   ]
  },
  {
   "cell_type": "markdown",
   "id": "8b81e3d8",
   "metadata": {},
   "source": [
    "# 8.Define a set of sequence"
   ]
  },
  {
   "cell_type": "markdown",
   "id": "09cd608f",
   "metadata": {},
   "source": [
    "What is the probability that this sequence will occur. The answer lies in the transition martix.The answer is the product of the transition provbability"
   ]
  },
  {
   "cell_type": "code",
   "execution_count": 11,
   "id": "55fb3896",
   "metadata": {},
   "outputs": [],
   "source": [
    "Log_Probability_Food_Sequence = Model.log_probability([\"Pizza\",\"Veg\",\"Veg\"])"
   ]
  },
  {
   "cell_type": "code",
   "execution_count": 12,
   "id": "9d5c59af",
   "metadata": {},
   "outputs": [],
   "source": [
    "Probability_of_Food = np.exp(Log_Probability_Food_Sequence)"
   ]
  },
  {
   "cell_type": "code",
   "execution_count": 13,
   "id": "66fe8bc9",
   "metadata": {},
   "outputs": [
    {
     "name": "stdout",
     "output_type": "stream",
     "text": [
      "0.15\n"
     ]
    }
   ],
   "source": [
    "print(Probability_of_Food)"
   ]
  },
  {
   "cell_type": "code",
   "execution_count": null,
   "id": "1068d7ab",
   "metadata": {},
   "outputs": [],
   "source": []
  }
 ],
 "metadata": {
  "kernelspec": {
   "display_name": "Python 3 (ipykernel)",
   "language": "python",
   "name": "python3"
  },
  "language_info": {
   "codemirror_mode": {
    "name": "ipython",
    "version": 3
   },
   "file_extension": ".py",
   "mimetype": "text/x-python",
   "name": "python",
   "nbconvert_exporter": "python",
   "pygments_lexer": "ipython3",
   "version": "3.11.4"
  }
 },
 "nbformat": 4,
 "nbformat_minor": 5
}
