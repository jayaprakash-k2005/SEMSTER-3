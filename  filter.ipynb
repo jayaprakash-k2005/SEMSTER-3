{
 "cells": [
  {
   "cell_type": "code",
   "execution_count": 1,
   "id": "2876dc58",
   "metadata": {},
   "outputs": [],
   "source": [
    "import cv2 as cv\n",
    "import matplotlib.pyplot as plt\n",
    "import numpy as np"
   ]
  },
  {
   "cell_type": "code",
   "execution_count": 2,
   "id": "64a945a6",
   "metadata": {},
   "outputs": [],
   "source": [
    "img = cv.imread('C:/Users/Admin/Downloads/nine tail.jpg')\n",
    "kernal = np.ones((3,3),np.float32)/9\n",
    "filter = cv.filter2D(img,-1,kernal)\n",
    "cv.imshow('image',img)\n",
    "cv.imshow('filter2d',filter)\n",
    "cv.waitKey(0)\n",
    "cv.destroyAllWindows()"
   ]
  },
  {
   "cell_type": "code",
   "execution_count": 4,
   "id": "7ca8774a",
   "metadata": {},
   "outputs": [
    {
     "data": {
      "text/plain": [
       "array([[[ 66,  66,  82],\n",
       "        [ 42,  42,  58],\n",
       "        [ 80,  80,  98],\n",
       "        ...,\n",
       "        [ 58,  54,  49],\n",
       "        [ 58,  54,  49],\n",
       "        [ 60,  56,  51]],\n",
       "\n",
       "       [[ 64,  64,  80],\n",
       "        [ 49,  49,  65],\n",
       "        [ 90,  90, 108],\n",
       "        ...,\n",
       "        [ 60,  56,  51],\n",
       "        [ 69,  65,  60],\n",
       "        [ 63,  59,  54]],\n",
       "\n",
       "       [[ 65,  65,  81],\n",
       "        [ 53,  53,  69],\n",
       "        [ 89,  89, 107],\n",
       "        ...,\n",
       "        [ 61,  57,  52],\n",
       "        [ 72,  68,  63],\n",
       "        [ 81,  77,  72]],\n",
       "\n",
       "       ...,\n",
       "\n",
       "       [[251, 253, 254],\n",
       "        [248, 250, 251],\n",
       "        [248, 250, 251],\n",
       "        ...,\n",
       "        [185, 208, 230],\n",
       "        [188, 210, 235],\n",
       "        [190, 213, 239]],\n",
       "\n",
       "       [[253, 253, 253],\n",
       "        [255, 255, 255],\n",
       "        [255, 255, 255],\n",
       "        ...,\n",
       "        [189, 208, 229],\n",
       "        [198, 219, 241],\n",
       "        [195, 216, 238]],\n",
       "\n",
       "       [[253, 253, 253],\n",
       "        [255, 255, 255],\n",
       "        [255, 255, 255],\n",
       "        ...,\n",
       "        [189, 208, 229],\n",
       "        [200, 219, 240],\n",
       "        [197, 215, 238]]], dtype=uint8)"
      ]
     },
     "execution_count": 4,
     "metadata": {},
     "output_type": "execute_result"
    }
   ],
   "source": [
    "img"
   ]
  },
  {
   "cell_type": "code",
   "execution_count": 5,
   "id": "cbd7e3d0",
   "metadata": {},
   "outputs": [
    {
     "data": {
      "text/plain": [
       "array([[0.11111111, 0.11111111, 0.11111111],\n",
       "       [0.11111111, 0.11111111, 0.11111111],\n",
       "       [0.11111111, 0.11111111, 0.11111111]], dtype=float32)"
      ]
     },
     "execution_count": 5,
     "metadata": {},
     "output_type": "execute_result"
    }
   ],
   "source": [
    "kernal"
   ]
  },
  {
   "cell_type": "code",
   "execution_count": 6,
   "id": "46e28dad",
   "metadata": {},
   "outputs": [],
   "source": [
    "img = cv.imread('C:/Users/Admin/Downloads/nine tail.jpg')\n",
    "blur = cv.blur(img,(3,3))\n",
    "cv.imshow('image',img)\n",
    "cv.imshow('blur',blur)\n",
    "cv.waitKey(0)\n",
    "cv.destroyAllWindows()"
   ]
  },
  {
   "cell_type": "markdown",
   "id": "eb82969e",
   "metadata": {},
   "source": [
    "# gaussian blur"
   ]
  },
  {
   "cell_type": "code",
   "execution_count": 7,
   "id": "d585b5cc",
   "metadata": {},
   "outputs": [],
   "source": [
    "img = cv.imread('C:/Users/Admin/Downloads/noise image.jpg')\n",
    "Gblur = cv.GaussianBlur(img,(7,7),0)\n",
    "cv.imshow('image',img)\n",
    "cv.imshow('Gaussianblur',Gblur)\n",
    "cv.waitKey(0)\n",
    "cv.destroyAllWindows()"
   ]
  },
  {
   "cell_type": "code",
   "execution_count": 8,
   "id": "2ce23c93",
   "metadata": {},
   "outputs": [
    {
     "data": {
      "text/plain": [
       "(180, 252, 3)"
      ]
     },
     "execution_count": 8,
     "metadata": {},
     "output_type": "execute_result"
    }
   ],
   "source": [
    "img.shape"
   ]
  },
  {
   "cell_type": "code",
   "execution_count": 9,
   "id": "85040f7f",
   "metadata": {},
   "outputs": [
    {
     "data": {
      "text/plain": [
       "array([[[ 6,  1,  3],\n",
       "        [ 9,  4,  6],\n",
       "        [10,  5,  7],\n",
       "        ...,\n",
       "        [ 7,  2,  3],\n",
       "        [ 7,  2,  3],\n",
       "        [ 6,  1,  2]],\n",
       "\n",
       "       [[11,  6,  8],\n",
       "        [ 9,  4,  6],\n",
       "        [ 8,  3,  5],\n",
       "        ...,\n",
       "        [ 6,  1,  2],\n",
       "        [ 6,  1,  2],\n",
       "        [ 5,  0,  1]],\n",
       "\n",
       "       [[15, 10, 12],\n",
       "        [10,  5,  7],\n",
       "        [ 5,  0,  2],\n",
       "        ...,\n",
       "        [ 9,  4,  5],\n",
       "        [ 8,  3,  4],\n",
       "        [ 8,  3,  4]],\n",
       "\n",
       "       ...,\n",
       "\n",
       "       [[20, 27, 46],\n",
       "        [23, 30, 49],\n",
       "        [25, 35, 53],\n",
       "        ...,\n",
       "        [ 4,  6, 14],\n",
       "        [ 9, 11, 19],\n",
       "        [ 7,  9, 17]],\n",
       "\n",
       "       [[44, 51, 70],\n",
       "        [37, 44, 63],\n",
       "        [24, 34, 52],\n",
       "        ...,\n",
       "        [21, 23, 31],\n",
       "        [25, 27, 35],\n",
       "        [22, 24, 32]],\n",
       "\n",
       "       [[43, 50, 69],\n",
       "        [42, 49, 68],\n",
       "        [30, 40, 58],\n",
       "        ...,\n",
       "        [12, 14, 22],\n",
       "        [14, 16, 24],\n",
       "        [11, 13, 21]]], dtype=uint8)"
      ]
     },
     "execution_count": 9,
     "metadata": {},
     "output_type": "execute_result"
    }
   ],
   "source": [
    "img"
   ]
  },
  {
   "cell_type": "markdown",
   "id": "2c426684",
   "metadata": {},
   "source": [
    "# bilateral filters"
   ]
  },
  {
   "cell_type": "code",
   "execution_count": 12,
   "id": "bcbdc32d",
   "metadata": {},
   "outputs": [],
   "source": [
    "img = cv.imread('C:/Users/Admin/Downloads/noise image.jpg')\n",
    "Bfilter = cv.bilateralFilter(img,9,50,50)\n",
    "cv.imshow('image',img)\n",
    "cv.imshow('Bilateral',Bfilter)\n",
    "cv.waitKey(0)\n",
    "cv.destroyAllWindows()"
   ]
  },
  {
   "cell_type": "code",
   "execution_count": 13,
   "id": "4d770d97",
   "metadata": {},
   "outputs": [
    {
     "data": {
      "text/plain": [
       "array([[[ 6,  1,  3],\n",
       "        [ 9,  4,  6],\n",
       "        [10,  5,  7],\n",
       "        ...,\n",
       "        [ 7,  2,  3],\n",
       "        [ 7,  2,  3],\n",
       "        [ 6,  1,  2]],\n",
       "\n",
       "       [[11,  6,  8],\n",
       "        [ 9,  4,  6],\n",
       "        [ 8,  3,  5],\n",
       "        ...,\n",
       "        [ 6,  1,  2],\n",
       "        [ 6,  1,  2],\n",
       "        [ 5,  0,  1]],\n",
       "\n",
       "       [[15, 10, 12],\n",
       "        [10,  5,  7],\n",
       "        [ 5,  0,  2],\n",
       "        ...,\n",
       "        [ 9,  4,  5],\n",
       "        [ 8,  3,  4],\n",
       "        [ 8,  3,  4]],\n",
       "\n",
       "       ...,\n",
       "\n",
       "       [[20, 27, 46],\n",
       "        [23, 30, 49],\n",
       "        [25, 35, 53],\n",
       "        ...,\n",
       "        [ 4,  6, 14],\n",
       "        [ 9, 11, 19],\n",
       "        [ 7,  9, 17]],\n",
       "\n",
       "       [[44, 51, 70],\n",
       "        [37, 44, 63],\n",
       "        [24, 34, 52],\n",
       "        ...,\n",
       "        [21, 23, 31],\n",
       "        [25, 27, 35],\n",
       "        [22, 24, 32]],\n",
       "\n",
       "       [[43, 50, 69],\n",
       "        [42, 49, 68],\n",
       "        [30, 40, 58],\n",
       "        ...,\n",
       "        [12, 14, 22],\n",
       "        [14, 16, 24],\n",
       "        [11, 13, 21]]], dtype=uint8)"
      ]
     },
     "execution_count": 13,
     "metadata": {},
     "output_type": "execute_result"
    }
   ],
   "source": [
    "img"
   ]
  },
  {
   "cell_type": "code",
   "execution_count": 14,
   "id": "ef43ca64",
   "metadata": {},
   "outputs": [
    {
     "data": {
      "text/plain": [
       "(180, 252, 3)"
      ]
     },
     "execution_count": 14,
     "metadata": {},
     "output_type": "execute_result"
    }
   ],
   "source": [
    "img.shape"
   ]
  },
  {
   "cell_type": "code",
   "execution_count": 15,
   "id": "76ae8789",
   "metadata": {},
   "outputs": [
    {
     "data": {
      "text/plain": [
       "array([[[10,  5,  7],\n",
       "        [10,  5,  7],\n",
       "        [10,  6,  7],\n",
       "        ...,\n",
       "        [ 7,  2,  3],\n",
       "        [ 7,  2,  3],\n",
       "        [ 7,  2,  3]],\n",
       "\n",
       "       [[11,  6,  8],\n",
       "        [11,  6,  8],\n",
       "        [11,  6,  8],\n",
       "        ...,\n",
       "        [ 7,  2,  3],\n",
       "        [ 7,  2,  3],\n",
       "        [ 7,  2,  3]],\n",
       "\n",
       "       [[12,  7,  9],\n",
       "        [11,  6,  8],\n",
       "        [10,  5,  7],\n",
       "        ...,\n",
       "        [ 7,  2,  3],\n",
       "        [ 7,  2,  3],\n",
       "        [ 7,  2,  3]],\n",
       "\n",
       "       ...,\n",
       "\n",
       "       [[26, 32, 49],\n",
       "        [27, 33, 50],\n",
       "        [28, 34, 52],\n",
       "        ...,\n",
       "        [10, 11, 17],\n",
       "        [13, 13, 19],\n",
       "        [13, 13, 19]],\n",
       "\n",
       "       [[32, 40, 58],\n",
       "        [31, 39, 57],\n",
       "        [28, 35, 53],\n",
       "        ...,\n",
       "        [14, 15, 22],\n",
       "        [16, 17, 24],\n",
       "        [15, 16, 23]],\n",
       "\n",
       "       [[33, 41, 59],\n",
       "        [33, 41, 59],\n",
       "        [30, 38, 56],\n",
       "        ...,\n",
       "        [11, 12, 20],\n",
       "        [13, 14, 21],\n",
       "        [13, 14, 22]]], dtype=uint8)"
      ]
     },
     "execution_count": 15,
     "metadata": {},
     "output_type": "execute_result"
    }
   ],
   "source": [
    "Bfilter"
   ]
  },
  {
   "cell_type": "code",
   "execution_count": 21,
   "id": "3b6f049e",
   "metadata": {},
   "outputs": [],
   "source": [
    "img = cv.imread('C:/Users/Admin/Downloads/salt and pepper noise image.jpg')\n",
    "medianFilter = cv.medianBlur(img,5)\n",
    "cv.imshow('image',img)\n",
    "cv.imshow('medianBlur',medianFilter)\n",
    "cv.waitKey(0)\n",
    "cv.destroyAllWindows()"
   ]
  },
  {
   "cell_type": "code",
   "execution_count": null,
   "id": "97f05b62",
   "metadata": {},
   "outputs": [],
   "source": []
  }
 ],
 "metadata": {
  "kernelspec": {
   "display_name": "Python 3 (ipykernel)",
   "language": "python",
   "name": "python3"
  },
  "language_info": {
   "codemirror_mode": {
    "name": "ipython",
    "version": 3
   },
   "file_extension": ".py",
   "mimetype": "text/x-python",
   "name": "python",
   "nbconvert_exporter": "python",
   "pygments_lexer": "ipython3",
   "version": "3.11.5"
  }
 },
 "nbformat": 4,
 "nbformat_minor": 5
}
