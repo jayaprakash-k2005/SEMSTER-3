{
 "cells": [
  {
   "cell_type": "markdown",
   "id": "aa045d29",
   "metadata": {},
   "source": [
    "# travelling sales person"
   ]
  },
  {
   "cell_type": "raw",
   "id": "de616ce3",
   "metadata": {},
   "source": [
    "finding the best possible shortest route among these cities to travel\n",
    "  >chennai-bengalore=347\n",
    "  >chennai-delhi=2196\n",
    "  >chennnai-kolkatta=1667\n",
    "  >bangalore-delhi=2164\n",
    "  >bangalore-kolkatta=1875\n",
    "  >delhi-kolkatta=1559\n",
    "  \n",
    "  all values in km"
   ]
  },
  {
   "cell_type": "markdown",
   "id": "3cc5c975",
   "metadata": {},
   "source": [
    "# Import random library"
   ]
  },
  {
   "cell_type": "code",
   "execution_count": 1,
   "id": "06bebaef",
   "metadata": {},
   "outputs": [],
   "source": [
    "import random"
   ]
  },
  {
   "cell_type": "code",
   "execution_count": 2,
   "id": "57973c60",
   "metadata": {},
   "outputs": [],
   "source": [
    "tsp=[[0,347,2196,1667],\n",
    "     [347,0,2164,1875],\n",
    "     [2196,2164,0,1559],\n",
    "     [1667,1875,1559,0]]"
   ]
  },
  {
   "cell_type": "code",
   "execution_count": 3,
   "id": "149ca161",
   "metadata": {},
   "outputs": [
    {
     "data": {
      "text/plain": [
       "4"
      ]
     },
     "execution_count": 3,
     "metadata": {},
     "output_type": "execute_result"
    }
   ],
   "source": [
    "len(tsp)"
   ]
  },
  {
   "cell_type": "code",
   "execution_count": 4,
   "id": "fb5fdec4",
   "metadata": {},
   "outputs": [
    {
     "data": {
      "text/plain": [
       "[0, 1, 2, 3]"
      ]
     },
     "execution_count": 4,
     "metadata": {},
     "output_type": "execute_result"
    }
   ],
   "source": [
    "a=list(range(4))\n",
    "a"
   ]
  },
  {
   "cell_type": "markdown",
   "id": "e505b55e",
   "metadata": {},
   "source": [
    "# Random Solution Generator"
   ]
  },
  {
   "cell_type": "code",
   "execution_count": 5,
   "id": "81eb02d1",
   "metadata": {},
   "outputs": [],
   "source": [
    "def randomSolution(tsp):\n",
    "    cities = list(range(len(tsp)))\n",
    "    solution = []\n",
    "    \n",
    "    for i in range (len(tsp)):\n",
    "        randomCity = cities[random.randint(0,len(cities) - 1)]\n",
    "        solution.append(randomCity)\n",
    "        cities.remove(randomCity)\n",
    "\n",
    "    return solution\n"
   ]
  },
  {
   "cell_type": "code",
   "execution_count": 23,
   "id": "26100823",
   "metadata": {},
   "outputs": [
    {
     "name": "stdout",
     "output_type": "stream",
     "text": [
      "[1, 2, 3, 0]\n"
     ]
    }
   ],
   "source": [
    "solution = randomSolution(tsp)\n",
    "print(solution)"
   ]
  },
  {
   "cell_type": "markdown",
   "id": "1060f883",
   "metadata": {},
   "source": [
    "# Calculating Length of Route"
   ]
  },
  {
   "cell_type": "code",
   "execution_count": 7,
   "id": "0b149212",
   "metadata": {},
   "outputs": [],
   "source": [
    "def routelength(tsp,solution):\n",
    "    routelength = 0\n",
    "    for i in range(len(solution)):\n",
    "        routelength += tsp[solution[i - 1]][solution[i]]\n",
    "    return routelength    "
   ]
  },
  {
   "cell_type": "code",
   "execution_count": 8,
   "id": "1ef2eb1d",
   "metadata": {},
   "outputs": [
    {
     "data": {
      "text/plain": [
       "5737"
      ]
     },
     "execution_count": 8,
     "metadata": {},
     "output_type": "execute_result"
    }
   ],
   "source": [
    "routelength(tsp, solution)"
   ]
  },
  {
   "cell_type": "markdown",
   "id": "518bd85c",
   "metadata": {},
   "source": [
    "# Generating Neighbours"
   ]
  },
  {
   "cell_type": "code",
   "execution_count": 31,
   "id": "81e66851",
   "metadata": {},
   "outputs": [],
   "source": [
    "def getneighbours(solution):\n",
    "    neighbours = []\n",
    "    for i in range(len(solution)):\n",
    "        for j in range(i + 1, len(solution)):\n",
    "            neighbour = solution.copy()\n",
    "            neighbour[i] = solution[j]\n",
    "            neighbour[j] = solution[i]\n",
    "            neighbours.append(neighbour)\n",
    "    return neighbours        "
   ]
  },
  {
   "cell_type": "code",
   "execution_count": 32,
   "id": "26048513",
   "metadata": {},
   "outputs": [
    {
     "name": "stdout",
     "output_type": "stream",
     "text": [
      "[[2, 1, 3, 0], [3, 2, 1, 0], [0, 2, 3, 1], [1, 3, 2, 0], [1, 0, 3, 2], [1, 2, 0, 3]]\n"
     ]
    }
   ],
   "source": [
    "neighbours = getneighbours(solution)\n",
    "print(neighbours)"
   ]
  },
  {
   "cell_type": "markdown",
   "id": "e1b18833",
   "metadata": {},
   "source": [
    "# Finding Best neighbour"
   ]
  },
  {
   "cell_type": "code",
   "execution_count": 39,
   "id": "66be1c7c",
   "metadata": {},
   "outputs": [],
   "source": [
    "def getbestneighbour(tsp,neighbours):\n",
    "    bestroutelength = routelength(tsp,neighbours[0])\n",
    "    bestneighbour = neighbours[0]\n",
    "    for neighbour in neighbours:\n",
    "        currentroutelength = routelength(tsp, neighbour)\n",
    "        if currentroutelength < bestroutelength:\n",
    "            bestroutelength = currentroutelength\n",
    "            bestneighbour = neighbour\n",
    "            \n",
    "    return bestneighbour, bestroutelength\n"
   ]
  },
  {
   "cell_type": "code",
   "execution_count": 40,
   "id": "324b13b6",
   "metadata": {
    "scrolled": true
   },
   "outputs": [
    {
     "data": {
      "text/plain": [
       "([3, 2, 1, 0], 5737)"
      ]
     },
     "execution_count": 40,
     "metadata": {},
     "output_type": "execute_result"
    }
   ],
   "source": [
    "getbestneighbour(tsp, neighbours)"
   ]
  },
  {
   "cell_type": "markdown",
   "id": "f257849a",
   "metadata": {},
   "source": [
    "# Hill Climb Algorithm"
   ]
  },
  {
   "cell_type": "code",
   "execution_count": 56,
   "id": "32ed20ca",
   "metadata": {},
   "outputs": [],
   "source": [
    "def hillclimbing(tsp):\n",
    "    currentsolution = randomSolution(tsp)\n",
    "    currentroutelength = routelength(tsp, currentsolution)\n",
    "    neighbour = getneighbours(currentsolution)\n",
    "    bestneighbour, bestroutelength = getbestneighbour(tsp, neighbour)\n",
    "    \n",
    "    while bestroutelength < currentroutelength:\n",
    "        currentsolution = bestneighbour\n",
    "        currentrouthlength = bestroutelenght\n",
    "        neighbours = getneighbours(currentsolution)\n",
    "        bestneighbour, bestroutelength = getbestneighbour(tsp, neighbours)\n",
    "        \n",
    "    return currentsolution, currentroutelength    \n",
    "         "
   ]
  },
  {
   "cell_type": "markdown",
   "id": "bc244324",
   "metadata": {},
   "source": [
    "# Hill Climbing Solution"
   ]
  },
  {
   "cell_type": "code",
   "execution_count": 57,
   "id": "bedf5e99",
   "metadata": {},
   "outputs": [
    {
     "name": "stdout",
     "output_type": "stream",
     "text": [
      "([0, 3, 2, 1], 5737)\n"
     ]
    }
   ],
   "source": [
    "print(hillclimbing(tsp))"
   ]
  },
  {
   "cell_type": "code",
   "execution_count": null,
   "id": "c80657ba",
   "metadata": {},
   "outputs": [],
   "source": []
  },
  {
   "cell_type": "code",
   "execution_count": null,
   "id": "8d8ecab7",
   "metadata": {},
   "outputs": [],
   "source": []
  },
  {
   "cell_type": "code",
   "execution_count": null,
   "id": "db32d5db",
   "metadata": {},
   "outputs": [],
   "source": [
    "\n",
    "\n",
    "\n"
   ]
  },
  {
   "cell_type": "code",
   "execution_count": null,
   "id": "d4d8814b",
   "metadata": {},
   "outputs": [],
   "source": []
  },
  {
   "cell_type": "code",
   "execution_count": null,
   "id": "a49d5d85",
   "metadata": {},
   "outputs": [],
   "source": []
  },
  {
   "cell_type": "code",
   "execution_count": null,
   "id": "604ae4e4",
   "metadata": {},
   "outputs": [],
   "source": []
  }
 ],
 "metadata": {
  "kernelspec": {
   "display_name": "Python 3 (ipykernel)",
   "language": "python",
   "name": "python3"
  },
  "language_info": {
   "codemirror_mode": {
    "name": "ipython",
    "version": 3
   },
   "file_extension": ".py",
   "mimetype": "text/x-python",
   "name": "python",
   "nbconvert_exporter": "python",
   "pygments_lexer": "ipython3",
   "version": "3.11.4"
  }
 },
 "nbformat": 4,
 "nbformat_minor": 5
}
