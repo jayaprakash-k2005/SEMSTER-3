{
 "cells": [
  {
   "cell_type": "code",
   "execution_count": null,
   "id": "3e85644f",
   "metadata": {
    "scrolled": true
   },
   "outputs": [
    {
     "name": "stdout",
     "output_type": "stream",
     "text": [
      "\t\t Welcome to thamil catering expert system\t\t\n",
      "\n",
      "\n",
      " Catering:do u have any problem in your food? (yes or no)\n",
      "\n"
     ]
    }
   ],
   "source": [
    "import time\n",
    "\n",
    "print(\"\\t\\t Welcome to thamil catering expert system\\t\\t\")\n",
    "print(\"\\n\\n Catering:do u have any problem in your food? (yes or no)\\n\")\n",
    "\n",
    "choice1 = input(\"you:\")\n",
    "    \n",
    "if choice1 == \"yes\":\n",
    "    print(\"\\n Enter the type of your issue listen down below :\\n1. starting trouble \\n2. woubble while driving \\n3. I did't have issue \\n\")\n",
    "    choice2 = input(\"\\n Enter Here (Numbers only):\")\n",
    "    \n",
    "    if choice2 > \"3\" or choice2 < \"1\":\n",
    "        print(\"\\n AI : Please Enter valid key..\")\n",
    "        \n",
    "    elif choice2 == \"3\":\n",
    "        print(\"\\n AI : Then, Why are you enter yes in the first question... You fool\")\n",
    "    \n",
    "    elif choice2 == \"2\":\n",
    "        print(\"\\n AI : ok let me think...\\n\")\n",
    "        \n",
    "        for i in range(1,20):\n",
    "            time.sleep(0.08)\n",
    "            print(\".\",flush = True , end = \"\")\n",
    "        print(\"\\n AI: when do you feel the woubbling \\n1. while drive on the highway at terrible speed \\n   2.while drive on normal road\\n\")\n",
    "    \n",
    "        choice3 = input(\"You : \")\n",
    "        \n",
    "        if choice3 == \"1\":\n",
    "            print(\"\\n AI : Please wait still...\\n AI : I wanna call police...  \\n AI : Just kidding...Go slow my friend\")\n",
    "        \n",
    "        elif choice3 == \"2\":\n",
    "            print(\"\\n AI : Check your tire air pressure , Then check , and inform me kindly \")\n",
    "            print(\"\\n AI : Still you feel woubble?(yes or no) \\n\")\n",
    "            choice4 = input(\"you : \")\n",
    "            \n",
    "            if choice4 == \"no\":\n",
    "                print(\"\\n AI : I'm glad to helped you... \\n Thank you...! \\call me again\")\n",
    "                \n",
    "            elif choice4 == \"yes\":\n",
    "                print(\"\\n AI : I think, you have to make a phone call to your server center...\\n thank you\")\n",
    "                \n",
    "            else:\n",
    "                print(\"\\n AI : will you please enter the correct answer....\\nGo on run again me\")\n",
    "    else:\n",
    "        print(\"\\nAI:let me remember that you have to check that the key is inserted?\\nAI:Is it inserted?(yes or no)\")\n",
    "        choice5 =input(\"you:\")\n",
    "        \n",
    "        if choice5=='no':\n",
    "            print(\"\\nAI: I think you have to study hard...better then ride a bike\\n thank you..!\")\n",
    "    \n",
    "        elif choice5=='yes':\n",
    "            print(\"\\nAI: oh i see..let me think what to do wait a minute......\")\n",
    "                \n",
    "            for i in range(1,30):\n",
    "                time.sleep(0.08)\n",
    "                print(\".\",flush = True,end=\"\")\n",
    "               \n",
    "            print(\"\\n\\nAI: sorry buddy i didn't get anything in my mind...i think you have to reach service centre.\")\n",
    "            \n",
    "        else:\n",
    "            print(\"\\nI'm getting bore when you enter wrong answer,'{}' it doesn't make any sense\", format(choice5))\n",
    "    \n",
    "elif choice1=='no':\n",
    "    print(\"\\nAI: Then why are you wasting my time...\")\n",
    "   \n",
    "else:\n",
    "    print(\"AI: Enter valid key..\")\n",
    "    \n"
   ]
  },
  {
   "cell_type": "code",
   "execution_count": null,
   "id": "7b0aa1a5",
   "metadata": {},
   "outputs": [],
   "source": []
  },
  {
   "cell_type": "code",
   "execution_count": null,
   "id": "594af007",
   "metadata": {},
   "outputs": [],
   "source": []
  }
 ],
 "metadata": {
  "kernelspec": {
   "display_name": "Python 3 (ipykernel)",
   "language": "python",
   "name": "python3"
  },
  "language_info": {
   "codemirror_mode": {
    "name": "ipython",
    "version": 3
   },
   "file_extension": ".py",
   "mimetype": "text/x-python",
   "name": "python",
   "nbconvert_exporter": "python",
   "pygments_lexer": "ipython3",
   "version": "3.11.4"
  }
 },
 "nbformat": 4,
 "nbformat_minor": 5
}
