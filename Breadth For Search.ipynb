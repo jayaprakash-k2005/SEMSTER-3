{
 "cells": [
  {
   "cell_type": "code",
   "execution_count": null,
   "id": "d8f4e1d7",
   "metadata": {},
   "outputs": [],
   "source": [
    "graph = {'PKC':['STADIUM','PARKING'],\n",
    "        'STADIUM':['MAIN BLOCK','TREE'],\n",
    "        'PARKING':['JUNCTION'],\n",
    "        'JUNCTION':['ENTRANCE','MAIN BLOCK'],\n",
    "        'ENTRANCE':['JUNCTION'],\n",
    "        'MAIN BLOCK':['JUNCTION'],\n",
    "        'TREE':['PKC']}"
   ]
  },
  {
   "cell_type": "code",
   "execution_count": null,
   "id": "1b516b9d",
   "metadata": {},
   "outputs": [],
   "source": [
    "from collections import deque\n",
    "def BFS (graph,start,goal):\n",
    "    visited = []\n",
    "    queue = deque([start])\n",
    "    while queue:\n",
    "        node = queue.popleft()\n",
    "        if node not in visited:\n",
    "            visited.append(node)\n",
    "            print(\"I have visited:\",node)\n",
    "            neighbournode = graph[node]\n",
    "            if node == goal:\n",
    "                print(\"I have reached the goal, The path I travelled \",visited)\n",
    "            for neighbours in neighbournode:\n",
    "                queue.append(neighbours)"
   ]
  },
  {
   "cell_type": "code",
   "execution_count": null,
   "id": "d8929ae0",
   "metadata": {},
   "outputs": [],
   "source": [
    "BFS(graph,'PKC','TREE')"
   ]
  },
  {
   "cell_type": "code",
   "execution_count": null,
   "id": "31b1935b",
   "metadata": {},
   "outputs": [],
   "source": [
    "BFS(graph,'PKC','ENTRANCE')"
   ]
  },
  {
   "cell_type": "code",
   "execution_count": null,
   "id": "2ae49d0c",
   "metadata": {},
   "outputs": [],
   "source": []
  },
  {
   "cell_type": "code",
   "execution_count": null,
   "id": "4e517147",
   "metadata": {},
   "outputs": [],
   "source": [
    "from queue import LifoQueue\n",
    "stack = LifoQueue\n",
    "def dfs(graph,start,goal,visited):\n",
    "    stack = [start]\n",
    "    while stack:\n",
    "        node = stack.pop()\n",
    "        if node not in visited:\n",
    "            visited.append(node)\n",
    "            if node == goal:\n",
    "                print(visited)\n",
    "            for neighbors in graph[node]:\n",
    "                dfs(graph,neighbors,goal,visited)"
   ]
  },
  {
   "cell_type": "code",
   "execution_count": null,
   "id": "f65c8ecc",
   "metadata": {},
   "outputs": [],
   "source": [
    "dfs(graph,'PKC','ENTRANCE',[])"
   ]
  },
  {
   "cell_type": "code",
   "execution_count": null,
   "id": "e041538f",
   "metadata": {},
   "outputs": [],
   "source": []
  },
  {
   "cell_type": "code",
   "execution_count": null,
   "id": "167a3e18",
   "metadata": {},
   "outputs": [],
   "source": []
  },
  {
   "cell_type": "code",
   "execution_count": null,
   "id": "1a5b2c84",
   "metadata": {},
   "outputs": [],
   "source": []
  }
 ],
 "metadata": {
  "kernelspec": {
   "display_name": "Python 3 (ipykernel)",
   "language": "python",
   "name": "python3"
  },
  "language_info": {
   "codemirror_mode": {
    "name": "ipython",
    "version": 3
   },
   "file_extension": ".py",
   "mimetype": "text/x-python",
   "name": "python",
   "nbconvert_exporter": "python",
   "pygments_lexer": "ipython3",
   "version": "3.11.4"
  }
 },
 "nbformat": 4,
 "nbformat_minor": 5
}
