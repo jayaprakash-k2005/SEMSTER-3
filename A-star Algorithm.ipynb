{
 "cells": [
  {
   "cell_type": "code",
   "execution_count": null,
   "id": "726e03da",
   "metadata": {},
   "outputs": [],
   "source": [
    "pip install matplotlib"
   ]
  },
  {
   "cell_type": "code",
   "execution_count": null,
   "id": "9933c8b3",
   "metadata": {},
   "outputs": [],
   "source": [
    "pip install networkx"
   ]
  },
  {
   "cell_type": "code",
   "execution_count": null,
   "id": "0e849817",
   "metadata": {},
   "outputs": [],
   "source": [
    "import networkx as nx\n",
    "import matplotlib.pyplot as plt"
   ]
  },
  {
   "cell_type": "code",
   "execution_count": null,
   "id": "b51bb09e",
   "metadata": {},
   "outputs": [],
   "source": [
    "def dist(a,b):\n",
    "    (x1,y1) = a\n",
    "    (x2,y2) = b\n",
    "    return ((x1 - x2) ** 2 + (y1 - y2) ** 2) ** 0.5"
   ]
  },
  {
   "cell_type": "code",
   "execution_count": null,
   "id": "faae7398",
   "metadata": {},
   "outputs": [],
   "source": [
    "G = nx.grid_graph(dim = [3,3])\n",
    "nx.set_edge_attributes(G, {e: e[0][1] * 2 for e in G.edges()}, \"cost\")"
   ]
  },
  {
   "cell_type": "code",
   "execution_count": null,
   "id": "766fb263",
   "metadata": {},
   "outputs": [],
   "source": [
    "pos = nx.spring_layout(G)\n",
    "nx.draw(G , pos , with_labels = True , node_color = \"#f86e00\")\n",
    "edge_labels = nx.get_edge_attributes(G,\"cost\")\n",
    "nx.draw_networkx_edge_labels(G , pos , edge_labels = edge_labels)\n",
    "plt.show()"
   ]
  },
  {
   "cell_type": "code",
   "execution_count": null,
   "id": "7019a5e7",
   "metadata": {},
   "outputs": [],
   "source": [
    "path = nx.astar_path(G,(0,0),(2,1),heuristic = dist,weight =\"cost\")"
   ]
  },
  {
   "cell_type": "code",
   "execution_count": null,
   "id": "5f247417",
   "metadata": {},
   "outputs": [],
   "source": [
    "length = nx.length.astar_path_length(G,(0,0),(2,1),heuristic = dist,weight =\"cost\")"
   ]
  },
  {
   "cell_type": "code",
   "execution_count": null,
   "id": "3530200b",
   "metadata": {},
   "outputs": [],
   "source": [
    "print('path :',path)"
   ]
  },
  {
   "cell_type": "code",
   "execution_count": null,
   "id": "603701f2",
   "metadata": {},
   "outputs": [],
   "source": []
  }
 ],
 "metadata": {
  "kernelspec": {
   "display_name": "Python 3 (ipykernel)",
   "language": "python",
   "name": "python3"
  },
  "language_info": {
   "codemirror_mode": {
    "name": "ipython",
    "version": 3
   },
   "file_extension": ".py",
   "mimetype": "text/x-python",
   "name": "python",
   "nbconvert_exporter": "python",
   "pygments_lexer": "ipython3",
   "version": "3.11.4"
  }
 },
 "nbformat": 4,
 "nbformat_minor": 5
}
