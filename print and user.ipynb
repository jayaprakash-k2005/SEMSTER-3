{
 "cells": [
  {
   "cell_type": "code",
   "execution_count": 1,
   "id": "32ad4f70",
   "metadata": {},
   "outputs": [],
   "source": [
    "a=10"
   ]
  },
  {
   "cell_type": "code",
   "execution_count": 2,
   "id": "ff4239e7",
   "metadata": {},
   "outputs": [
    {
     "data": {
      "text/plain": [
       "10"
      ]
     },
     "execution_count": 2,
     "metadata": {},
     "output_type": "execute_result"
    }
   ],
   "source": [
    "a"
   ]
  },
  {
   "cell_type": "code",
   "execution_count": 5,
   "id": "6525c108",
   "metadata": {},
   "outputs": [
    {
     "name": "stdout",
     "output_type": "stream",
     "text": [
      "10\n"
     ]
    }
   ],
   "source": [
    "print(a)"
   ]
  },
  {
   "cell_type": "code",
   "execution_count": 6,
   "id": "6e832c3d",
   "metadata": {},
   "outputs": [
    {
     "name": "stdout",
     "output_type": "stream",
     "text": [
      "the value of 'a' is 10\n"
     ]
    }
   ],
   "source": [
    "print(\"the value of 'a' is {}\".format(a))"
   ]
  },
  {
   "cell_type": "code",
   "execution_count": 12,
   "id": "eef1ddb4",
   "metadata": {},
   "outputs": [
    {
     "name": "stdout",
     "output_type": "stream",
     "text": [
      "my name is prakash\n"
     ]
    }
   ],
   "source": [
    "print(\"my name is prakash\")"
   ]
  },
  {
   "cell_type": "code",
   "execution_count": 13,
   "id": "3df89b4b",
   "metadata": {},
   "outputs": [
    {
     "name": "stdout",
     "output_type": "stream",
     "text": [
      "my name is rizwan\n"
     ]
    }
   ],
   "source": [
    "print(\"my name is rizwan\")"
   ]
  },
  {
   "cell_type": "code",
   "execution_count": 14,
   "id": "b282a181",
   "metadata": {},
   "outputs": [],
   "source": [
    "name=(\"prakash\")"
   ]
  },
  {
   "cell_type": "code",
   "execution_count": 15,
   "id": "975a9c79",
   "metadata": {},
   "outputs": [
    {
     "name": "stdout",
     "output_type": "stream",
     "text": [
      "prakash\n"
     ]
    }
   ],
   "source": [
    "print(name)"
   ]
  },
  {
   "cell_type": "code",
   "execution_count": 16,
   "id": "16b77735",
   "metadata": {},
   "outputs": [
    {
     "name": "stdout",
     "output_type": "stream",
     "text": [
      "my name is prakash\n"
     ]
    }
   ],
   "source": [
    "print(\"my name is {}\".format(name))"
   ]
  },
  {
   "cell_type": "code",
   "execution_count": 17,
   "id": "6396a84c",
   "metadata": {},
   "outputs": [],
   "source": [
    "name=(\"rizwan\")"
   ]
  },
  {
   "cell_type": "code",
   "execution_count": 18,
   "id": "8cffc2c8",
   "metadata": {},
   "outputs": [
    {
     "name": "stdout",
     "output_type": "stream",
     "text": [
      "my name is rizwan\n"
     ]
    }
   ],
   "source": [
    "print(\"my name is {}\".format(name))"
   ]
  },
  {
   "cell_type": "code",
   "execution_count": 27,
   "id": "72fc24ed",
   "metadata": {},
   "outputs": [
    {
     "name": "stdout",
     "output_type": "stream",
     "text": [
      "my name is prakash.iam in pmist\n"
     ]
    }
   ],
   "source": [
    "print(\"my name is {name}.iam in {collage}\".format(name=\"prakash\",collage=\"pmist\"))"
   ]
  },
  {
   "cell_type": "code",
   "execution_count": 28,
   "id": "a1075aaa",
   "metadata": {},
   "outputs": [
    {
     "data": {
      "text/plain": [
       "<function print>"
      ]
     },
     "execution_count": 28,
     "metadata": {},
     "output_type": "execute_result"
    }
   ],
   "source": [
    "print"
   ]
  },
  {
   "cell_type": "code",
   "execution_count": 30,
   "id": "391fad16",
   "metadata": {},
   "outputs": [
    {
     "name": "stdout",
     "output_type": "stream",
     "text": [
      "my name is rizwan.iam in pmist\n"
     ]
    }
   ],
   "source": [
    "print(\"my name is {name}.iam in {collage}\".format(name=\"rizwan\",collage=\"pmist\"))"
   ]
  },
  {
   "cell_type": "code",
   "execution_count": 31,
   "id": "0c049316",
   "metadata": {},
   "outputs": [
    {
     "name": "stdout",
     "output_type": "stream",
     "text": [
      "my name is prakash.iam in pmist\n"
     ]
    }
   ],
   "source": [
    "print(\"my name is {}.iam in {}\".format(\"prakash\",\"pmist\"))"
   ]
  },
  {
   "cell_type": "code",
   "execution_count": 6,
   "id": "89cc1c98",
   "metadata": {},
   "outputs": [
    {
     "name": "stdout",
     "output_type": "stream",
     "text": [
      "my name is jr.i am gangaster group\n"
     ]
    }
   ],
   "source": [
    "print(f\"my name is {'jr'}.i am {'gangaster'} group\")"
   ]
  },
  {
   "cell_type": "markdown",
   "id": "91bbd997",
   "metadata": {},
   "source": [
    "# task"
   ]
  },
  {
   "cell_type": "markdown",
   "id": "7a3f244a",
   "metadata": {},
   "source": [
    "# jayaprakash"
   ]
  },
  {
   "cell_type": "markdown",
   "id": "68ac627d",
   "metadata": {},
   "source": [
    "# user input"
   ]
  },
  {
   "cell_type": "code",
   "execution_count": 7,
   "id": "651a8aee",
   "metadata": {},
   "outputs": [
    {
     "name": "stdout",
     "output_type": "stream",
     "text": [
      "1985\n"
     ]
    },
    {
     "data": {
      "text/plain": [
       "'1985'"
      ]
     },
     "execution_count": 7,
     "metadata": {},
     "output_type": "execute_result"
    }
   ],
   "source": [
    "input()"
   ]
  },
  {
   "cell_type": "code",
   "execution_count": 19,
   "id": "179668eb",
   "metadata": {},
   "outputs": [
    {
     "name": "stdout",
     "output_type": "stream",
     "text": [
      "1985\n"
     ]
    }
   ],
   "source": [
    "var1=int(input())"
   ]
  },
  {
   "cell_type": "code",
   "execution_count": 20,
   "id": "d8ba85ef",
   "metadata": {},
   "outputs": [
    {
     "data": {
      "text/plain": [
       "int"
      ]
     },
     "execution_count": 20,
     "metadata": {},
     "output_type": "execute_result"
    }
   ],
   "source": [
    "type(var1)"
   ]
  },
  {
   "cell_type": "code",
   "execution_count": 14,
   "id": "fc526ddf",
   "metadata": {},
   "outputs": [
    {
     "name": "stdout",
     "output_type": "stream",
     "text": [
      "enter the number564\n"
     ]
    }
   ],
   "source": [
    "var=input(\"enter the number\")"
   ]
  },
  {
   "cell_type": "code",
   "execution_count": null,
   "id": "b09b7a72",
   "metadata": {},
   "outputs": [],
   "source": []
  }
 ],
 "metadata": {
  "kernelspec": {
   "display_name": "Python 3 (ipykernel)",
   "language": "python",
   "name": "python3"
  },
  "language_info": {
   "codemirror_mode": {
    "name": "ipython",
    "version": 3
   },
   "file_extension": ".py",
   "mimetype": "text/x-python",
   "name": "python",
   "nbconvert_exporter": "python",
   "pygments_lexer": "ipython3",
   "version": "3.9.17"
  }
 },
 "nbformat": 4,
 "nbformat_minor": 5
}
