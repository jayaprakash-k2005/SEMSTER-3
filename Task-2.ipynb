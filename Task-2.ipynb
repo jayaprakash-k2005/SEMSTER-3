{
 "cells": [
  {
   "cell_type": "code",
   "execution_count": null,
   "id": "39293f7f",
   "metadata": {},
   "outputs": [],
   "source": [
    "map = {'Ariyalur':['Perambalur','Thiruvaiyaru'],\n",
    "       'Perambalur':['Trichy'],\n",
    "       'Trichy':['Vallam'],\n",
    "       'Vallam':['Pmist'],\n",
    "       'Thiruvaiyaru':['Ammanpettai'],\n",
    "       'Ammanpettai':['Pmist']}"
   ]
  },
  {
   "cell_type": "code",
   "execution_count": null,
   "id": "67b370aa",
   "metadata": {},
   "outputs": [],
   "source": [
    "from collections import deque\n",
    "def BFS (map,start,goal):\n",
    "    visited = []\n",
    "    queue = deque([start])\n",
    "    while queue:\n",
    "        node = queue.popleft()\n",
    "        if node not in visited:\n",
    "            visited.append(node)\n",
    "            print(\"I have visited :\",node)\n",
    "            neighbournode = map[node]\n",
    "            if node == goal:\n",
    "                print(\"I have reached the goal, The path I travelled \",visited)\n",
    "            for neighbour in neighbournode:\n",
    "                queue.append(neighbour)"
   ]
  },
  {
   "cell_type": "code",
   "execution_count": null,
   "id": "c0eca3cf",
   "metadata": {},
   "outputs": [],
   "source": [
    "BFS(map,'Ariyalur','PMIST')"
   ]
  },
  {
   "cell_type": "code",
   "execution_count": null,
   "id": "5228e099",
   "metadata": {},
   "outputs": [],
   "source": [
    "from queue import LifoQueue\n",
    "stack = LifoQueue\n",
    "def dfs(map,start,goal,visited):\n",
    "    stack = [start]\n",
    "    while stack:\n",
    "        node = stack.pop()\n",
    "        if node not in visited:\n",
    "            visited.append(node)\n",
    "            if node == goal:\n",
    "                print(visited)\n",
    "            for neighbors in map[node]:\n",
    "                dfs(map,neighbors,goal,visited)"
   ]
  },
  {
   "cell_type": "code",
   "execution_count": null,
   "id": "787a9b6f",
   "metadata": {},
   "outputs": [],
   "source": [
    "dfs(map,'Ariyalur','Pmist',[])"
   ]
  },
  {
   "cell_type": "code",
   "execution_count": null,
   "id": "4f285f61",
   "metadata": {},
   "outputs": [],
   "source": []
  }
 ],
 "metadata": {
  "kernelspec": {
   "display_name": "Python 3 (ipykernel)",
   "language": "python",
   "name": "python3"
  },
  "language_info": {
   "codemirror_mode": {
    "name": "ipython",
    "version": 3
   },
   "file_extension": ".py",
   "mimetype": "text/x-python",
   "name": "python",
   "nbconvert_exporter": "python",
   "pygments_lexer": "ipython3",
   "version": "3.11.4"
  }
 },
 "nbformat": 4,
 "nbformat_minor": 5
}
